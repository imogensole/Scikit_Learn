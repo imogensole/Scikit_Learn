{
 "cells": [
  {
   "cell_type": "markdown",
   "metadata": {},
   "source": [
    "# SciKit Learn Tutorial \n",
    "\n",
    "Exercises from online youtube course, which can be found [here](https://www.youtube.com/watch?v=pqNCD_5r0IU)."
   ]
  },
  {
   "cell_type": "markdown",
   "metadata": {},
   "source": [
    "## Classification \n",
    "\n",
    "A classification model will use the features of an instance to label it into a specific category of other instances with similar features. \n",
    "\n",
    "### Data \n",
    "\n",
    "The dataset contains data regarding car evaluation. Using this data we will create a classification model to classify the condition of vehicles as one of: unacceptable, acceptable, good or very good. \n",
    "\n",
    "This is an example of a classification model using supervised machine learning. "
   ]
  },
  {
   "cell_type": "code",
   "execution_count": 9,
   "metadata": {},
   "outputs": [
    {
     "name": "stdout",
     "output_type": "stream",
     "text": [
      "  buying  maint doors persons lug_boot safety  class\n",
      "0  vhigh  vhigh     2       2    small    med  unacc\n",
      "1  vhigh  vhigh     2       2    small   high  unacc\n",
      "2  vhigh  vhigh     2       2      med    low  unacc\n",
      "3  vhigh  vhigh     2       2      med    med  unacc\n",
      "4  vhigh  vhigh     2       2      med   high  unacc\n"
     ]
    }
   ],
   "source": [
    "from sklearn import datasets\n",
    "import numpy as np \n",
    "import pandas as pd\n",
    "\n",
    "\n",
    "# Reading in the data and adding column labels \n",
    "data = pd.read_csv('/Users/imogensole/Desktop/Git/Scikit_Learn/car+evaluation/car.data')\n",
    "data = data.set_axis(['buying', 'maint', 'doors', 'persons', 'lug_boot', 'safety', 'class'], axis=1)\n"
   ]
  },
  {
   "cell_type": "markdown",
   "metadata": {},
   "source": [
    "# Train Test Split"
   ]
  }
 ],
 "metadata": {
  "kernelspec": {
   "display_name": "Python 3",
   "language": "python",
   "name": "python3"
  },
  "language_info": {
   "codemirror_mode": {
    "name": "ipython",
    "version": 3
   },
   "file_extension": ".py",
   "mimetype": "text/x-python",
   "name": "python",
   "nbconvert_exporter": "python",
   "pygments_lexer": "ipython3",
   "version": "3.11.4"
  },
  "orig_nbformat": 4
 },
 "nbformat": 4,
 "nbformat_minor": 2
}
