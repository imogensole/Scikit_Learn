{
 "cells": [
  {
   "cell_type": "markdown",
   "metadata": {},
   "source": [
    "# SciKit Learn Tutorial \n",
    "\n",
    "Exercises from online youtube course, which can be found [here](https://www.youtube.com/watch?v=pqNCD_5r0IU).\n",
    "\n",
    "This project aims to explore the use of the Scikit learn package for implementing different machine learning algorithms."
   ]
  },
  {
   "cell_type": "markdown",
   "metadata": {},
   "source": [
    "## Classification \n",
    "\n",
    "A classification model will use the features of an instance to label it into a specific category of other instances with similar features. \n",
    "\n",
    "\n",
    "### Data \n",
    "\n",
    "The dataset contains data regarding car evaluation. Using this data we will create a classification model to classify the condition of vehicles as one of: unacceptable, acceptable, good or very good. \n",
    "\n",
    "This is an example of a classification model using supervised machine learning. \n",
    "\n",
    "Features: \n",
    "* buying: buying price (categorical)\n",
    "* maint: price of maintenance (categorical)\n",
    "* doors: The number of doors (categorical)\n",
    "* persons: Capacity in terms of persons to carry (categorical)\n",
    "* lug_boot: The size of the car boot (categorical)\n",
    "* safety: Estimated safety of the car (categorical)\n",
    "\n",
    "Target: \n",
    "* class: The evaluation level = 'unacceptable', 'acceptable', 'good', 'very good' "
   ]
  },
  {
   "cell_type": "code",
   "execution_count": 90,
   "metadata": {},
   "outputs": [],
   "source": [
    "from sklearn import datasets\n",
    "from sklearn.model_selection import train_test_split\n",
    "from sklearn import neighbors, metrics \n",
    "from sklearn.preprocessing import LabelEncoder\n",
    "from sklearn import svm\n",
    "from sklearn.metrics import accuracy_score\n",
    "import numpy as np \n",
    "import pandas as pd\n",
    "\n",
    "# Reading in the data and adding column labels \n",
    "cars = pd.read_csv('/Users/imogensole/Desktop/Git/Scikit_Learn/car+evaluation/car.data')\n",
    "cars = cars.set_axis(['buying', 'maint', 'doors', 'persons', 'lug_boot', 'safety', 'class'], axis=1)"
   ]
  },
  {
   "cell_type": "markdown",
   "metadata": {},
   "source": [
    "### Train Test Split"
   ]
  },
  {
   "cell_type": "code",
   "execution_count": 83,
   "metadata": {},
   "outputs": [
    {
     "name": "stdout",
     "output_type": "stream",
     "text": [
      "(1381, 6)\n",
      "(346, 6)\n",
      "(1381,)\n",
      "(346,)\n"
     ]
    }
   ],
   "source": [
    "# Split the data into features and labels \n",
    "\n",
    "X = cars.drop('class', axis='columns').values\n",
    "y = cars['class']\n",
    "\n",
    "# splits the data into training and test sets \n",
    "# test data = 20% of data set \n",
    "X_train, X_test, y_train, y_test = train_test_split(X, y, test_size=0.2)\n",
    "\n",
    "print(X_train.shape)\n",
    "print(X_test.shape)\n",
    "print(y_train.shape)\n",
    "print(y_test.shape)"
   ]
  },
  {
   "cell_type": "markdown",
   "metadata": {},
   "source": [
    "**What is KNN?**\n",
    "\n",
    "* KNN = 'K Nearest Neighbours'\n",
    "* Type of classification/regression algorithm \n",
    "* Divides the data set into regions for different categories of classification based\n",
    "* Axis represent the features of the data set \n",
    "\n",
    "1. Test point plotted based on its features \n",
    "2. Identify the K nearest neighbours to the test point \n",
    "3. Test point classified in the same category as the majority of the nearest neighbours \n",
    "\n",
    "* Larger k is more appropriate for larger datasets \n",
    "* Advised to use an odd number for k \n",
    "* weights parameter = 'uniform' or 'distance'\n",
    "    * 'uniform' = all datapoints given equal importance \n",
    "    * 'distance' = datapoints weighted higher if they are nearer to the test point "
   ]
  },
  {
   "cell_type": "code",
   "execution_count": 84,
   "metadata": {},
   "outputs": [],
   "source": [
    "# Converting the feature strings into numerical \n",
    "Le = LabelEncoder()\n",
    "\n",
    "for i in range(len(X[0])): #iterates over each of the features \n",
    "    X[:, i] = Le.fit_transform(X[:,i]) #converts each column\n",
    "\n",
    "\n",
    "# Converting the target strings into numerical using mapping \n",
    "# Create a dictionary for mapping labels \n",
    "label_mapping = { \n",
    "    'unacc':0, \n",
    "    'acc':1, \n",
    "    'good':2, \n",
    "    'vgood':3\n",
    "}\n",
    "\n",
    "y = cars['class']\n",
    "y = y.map(label_mapping)\n",
    "y = np.array(y)\n"
   ]
  },
  {
   "cell_type": "code",
   "execution_count": 85,
   "metadata": {},
   "outputs": [
    {
     "name": "stdout",
     "output_type": "stream",
     "text": [
      "predictions:  [0 0 0 0 0 0 0 0 0 0 0 0 0 0 0 0 1 0 0 0 0 0 0 0 0 0 0 0 0 0 0 0 0 0 0 1 0\n",
      " 0 0 0 0 0 0 0 0 0 0 0 0 0 1 0 0 0 1 0 0 0 0 0 0 0 0 0 3 0 0 1 0 0 0 0 0 0\n",
      " 0 0 0 0 0 0 0 0 0 0 0 0 1 3 0 0 0 0 0 0 0 0 0 0 0 1 0 0 0 0 0 0 0 0 0 0 0\n",
      " 0 0 0 0 0 0 1 0 0 0 0 0 0 0 0 0 0 0 0 3 0 0 0 0 1 0 0 0 0 0 1 1 0 0 0 0 0\n",
      " 1 0 0 0 1 0 0 0 0 0 0 0 0 0 0 0 0 0 0 0 0 0 0 0 0 1 0 0 0 0 0 0 0 0 0 0 0\n",
      " 0 0 0 0 0 3 0 0 0 0 0 0 0 0 0 0 0 1 0 0 1 0 0 0 0 0 0 0 0 0 0 1 0 1 1 0 0\n",
      " 0 0 0 0 0 0 0 0 0 0 0 0 0 0 0 0 0 1 1 0 0 0 0 0 0 0 1 0 0 0 0 0 0 0 0 0 0\n",
      " 0 0 0 0 0 0 0 1 2 0 0 0 3 0 0 0 0 0 0 0 0 0 0 0 1 0 0 0 0 0 0 1 0 0 0 1 0\n",
      " 0 0 0 1 0 0 1 0 0 0 0 0 0 0 0 0 0 0 0 0 0 0 0 0 0 0 0 0 1 1 0 0 0 0 0 0 0\n",
      " 0 0 0 0 0 0 0 0 0 0 0 0 0]\n",
      "accuracy:  0.7832369942196532\n",
      "actual value:  0\n",
      "predicted value:  0\n"
     ]
    }
   ],
   "source": [
    "# Create the model \n",
    "knn = neighbors.KNeighborsClassifier(n_neighbors=25, weights='uniform')\n",
    "\n",
    "# Creating the train test split \n",
    "X_train, X_test, y_train, y_test = train_test_split(X, y, test_size=0.2)\n",
    "\n",
    "# Training the model \n",
    "knn.fit(X_train, y_train)\n",
    "\n",
    "# Make predictions on test data\n",
    "prediction = knn.predict(X_test)\n",
    "\n",
    "# Evaluate the accuracy \n",
    "accuracy = metrics.accuracy_score(y_test, prediction)\n",
    "\n",
    "print(\"predictions: \", prediction)\n",
    "print(\"accuracy: \", accuracy)\n",
    "\n",
    "# Comparing predicted and actual values \n",
    "a = 100\n",
    "print(\"actual value: \", y[a])\n",
    "print(\"predicted value: \", knn.predict(X)[a])"
   ]
  },
  {
   "cell_type": "markdown",
   "metadata": {},
   "source": [
    "# Support Vector Machine (SVM)\n",
    "\n",
    "* Effective in high dimensional spaces (= good for modelling with lots of features)\n",
    "* Many kernel functions\n",
    "* Classification and regression\n",
    "\n",
    "*How does it work?*\n",
    "1. Data points plotted in a plane \n",
    "2. SVM creates a **hyperplane** - hyperplane will have 1 dimension fewer than the dimension of the data\n",
    "3. The **support vectors** = the points in each category closest to the hyperplane \n",
    "4. Calculates the distance between the support vectors and the hyperplane = the **margin**\n",
    "5. The hyperplane is optimised by making the margin as large as possible \n",
    "\n",
    "Can use different kernels to create different separation boundaries. \n",
    "* Linear \n",
    "* Polynomial \n",
    "* Exponential \n",
    "* Sigmoid = returns values between 0 and 1"
   ]
  },
  {
   "cell_type": "code",
   "execution_count": 92,
   "metadata": {},
   "outputs": [
    {
     "name": "stdout",
     "output_type": "stream",
     "text": [
      "predictions:  [0 0 0 0 1 0 0 0 0 0 0 1 0 0 0 0 0 0 1 1 0 0 0 0 1 0 1 0 0 0 0 1 0 1 0 0 2\n",
      " 0 2 0 0 0 0 1 0 2 1 0 0 0 1 0 0 0 0 0 0 0 0 0 0 1 0 2 1 1 0 0 0 0 1 0 0 0\n",
      " 0 0 0 1 0 0 1 0 1 1 1 1 0 1 0 0 0 0 0 1 1 1 0 0 0 0 1 0 0 0 0 0 1 0 0 0 0\n",
      " 0 0 0 1 1 1 1 0 1 0 0 0 0 0 0 0 0 0 1 0 0 1 0 1 0 0 0 0 0 0 0 0 0 0 0 0 1\n",
      " 1 3 0 0 0 0 0 0 0 0 1 0 1 1 0 0 0 0 0 0 0 1 0 0 0 3 1 0 2 1 0 0 0 0 0 1 1\n",
      " 1 0 1 0 0 1 1 0 0 0 1 0 0 0 1 1 0 0 0 0 1 0 0 1 0 0 1 0 0 0 1 1 0 0 0 0 0\n",
      " 3 0 0 1 1 0 1 0 0 3 0 1 0 0 0 0 0 0 3 0 0 0 0 0 0 0 0 0 0 0 0 1 0 1 0 0 1\n",
      " 0 0 0 0 0 1 0 1 0 0 3 0 0 0 1 1 0 0 0 0 3 0 1 0 0 0 3 0 0 1 0 0 1 0 0 2 0\n",
      " 0 0 0 0 0 0 1 0 0 0 0 0 0 0 0 0 1 0 1 1 0 0 0 0 0 1 3 0 1 1 0 0 0 0 1 1 0\n",
      " 1 0 0 0 0 0 0 0 0 0 0 2 0]\n",
      "actual:  [0 0 0 0 1 0 0 0 0 0 0 2 0 0 0 0 0 0 1 1 0 0 0 0 1 0 1 0 0 0 0 1 0 1 0 0 2\n",
      " 0 2 0 0 0 0 1 0 2 1 0 0 0 1 0 0 0 0 0 0 0 0 0 0 1 0 2 1 1 1 0 0 0 1 1 0 1\n",
      " 0 0 0 2 0 0 1 0 1 1 1 1 0 1 0 0 0 0 0 1 1 1 0 1 0 0 3 0 0 0 0 0 1 0 0 0 0\n",
      " 0 0 0 1 1 1 1 0 1 0 0 0 0 0 0 0 0 0 1 0 0 1 0 1 0 0 0 0 0 0 0 0 0 0 0 0 1\n",
      " 1 3 0 0 0 0 0 0 0 0 1 0 1 1 0 0 0 0 0 0 0 1 0 0 0 3 3 0 2 1 0 0 0 0 1 1 0\n",
      " 1 0 3 0 0 2 1 0 0 0 1 0 0 0 1 1 0 0 0 0 1 0 0 1 0 0 1 0 1 0 1 1 0 0 0 0 0\n",
      " 3 0 0 1 1 0 0 0 0 2 0 2 0 0 0 0 0 0 3 0 0 0 0 0 0 0 0 0 0 0 0 2 0 2 0 0 1\n",
      " 0 0 0 0 0 1 0 1 0 0 3 0 0 0 1 1 0 0 0 0 3 0 0 0 0 0 3 0 0 1 0 0 1 0 0 2 0\n",
      " 0 0 0 0 0 0 1 0 0 0 0 0 0 0 0 1 3 0 3 1 0 0 0 0 0 1 3 0 1 1 0 0 0 0 1 1 0\n",
      " 1 0 0 0 0 0 0 0 0 0 0 2 0]\n",
      "acccuracy:  0.9364161849710982\n",
      "SVC()\n"
     ]
    }
   ],
   "source": [
    "# Creating the train test split \n",
    "X_train, X_test, y_train, y_test = train_test_split(X, y, test_size=0.2)\n",
    "\n",
    "# The different classes of car quality \n",
    "classes = ['unacc', 'acc', 'good', 'vgood']\n",
    "\n",
    "# Create the svm model \n",
    "model = svm.SVC()\n",
    "\n",
    "# Train the model \n",
    "model.fit(X_train, y_train)\n",
    "\n",
    "# Make predictions \n",
    "predictions = model.predict(X_test)\n",
    "\n",
    "# Evaluate accuracy \n",
    "acc = accuracy_score(y_test, predictions )\n",
    "\n",
    "# Print the predictions and accuracy\n",
    "print(\"predictions: \", predictions)\n",
    "print(\"actual: \", y_test)\n",
    "print(\"acccuracy: \", acc)\n"
   ]
  },
  {
   "cell_type": "markdown",
   "metadata": {},
   "source": [
    "# Linear Regression \n",
    "\n",
    "## About the Data \n",
    "\n",
    "The dataset used contains house prices for King County, USA and can be downloaded [here](https://www.kaggle.com/datasets/harlfoxem/housesalesprediction?resource=download). It includes properties sold between May 2014 and May 2015. The regression goal is to predict house prices based on the following input variables. \n",
    "\n",
    "# Input Variables \n",
    "\n",
    "* bedrooms: The number of bedrooms in the property (integer). \n",
    "* bathrooms: The number of bathrooms in the property (integer). \n",
    "* sqft_living: The size of the living room in square feet (numeric). \n",
    "* sqft_lot: The total size of the property in square feet (numeric).\n",
    "* floors: The number of floors in the property (integer). \n",
    "* waterfront: Takes value 0 if the property is not located on a waterfront and 1 if the property is located on a waterfront (integer). \n",
    "* view: A rating between 1 and 4 based on the view from the property (integer). \n",
    "* condition: Rating out of five indicating the condition of the property (integer).\n",
    "* sqft_above: The size of the above ground property in square feet (numeric). \n",
    "* sqft_basement: The size of the basement in square feet (numeric). \n",
    "* yr_built: The year the property was built (integer).\n",
    "* yr_renovated: The year the property was last renovated (integer). \n",
    "* zipcode: The zipcode of the house (integer).\n",
    "* lat: the latitude coordinates of the property (numeric). \n",
    "* long: the longitude coordinates of the property (numeric). \n",
    "\n",
    "\n",
    "\n",
    "# Predict Variable\n",
    "* price: The dolar amount the property sold for (numeric). \n"
   ]
  },
  {
   "cell_type": "code",
   "execution_count": 95,
   "metadata": {},
   "outputs": [],
   "source": [
    "# Read in regression data \n",
    "houses = pd.read_csv('kc_house_data.csv')\n",
    "houses = houses.dropna()\n",
    "houses = houses.drop(columns=[\"id\", \"sqft_living15\",\"sqft_lot15\",\"date\"])\n"
   ]
  }
 ],
 "metadata": {
  "kernelspec": {
   "display_name": "Python 3",
   "language": "python",
   "name": "python3"
  },
  "language_info": {
   "codemirror_mode": {
    "name": "ipython",
    "version": 3
   },
   "file_extension": ".py",
   "mimetype": "text/x-python",
   "name": "python",
   "nbconvert_exporter": "python",
   "pygments_lexer": "ipython3",
   "version": "3.11.4"
  },
  "orig_nbformat": 4
 },
 "nbformat": 4,
 "nbformat_minor": 2
}
