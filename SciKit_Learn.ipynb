{
 "cells": [
  {
   "cell_type": "markdown",
   "metadata": {},
   "source": [
    "# SciKit Learn Tutorial \n",
    "\n",
    "Exercises from online youtube course, which can be found [here](https://www.youtube.com/watch?v=pqNCD_5r0IU)."
   ]
  },
  {
   "cell_type": "markdown",
   "metadata": {},
   "source": [
    "## Classification \n",
    "\n",
    "A classification model will use the features of an instance to label it into a specific category of other instances with similar features. \n",
    "\n",
    "### Data \n",
    "\n",
    "The dataset contains data regarding car evaluation. Using this data we will create a classification model to classify the condition of vehicles as one of: unacceptable, acceptable, good or very good. \n",
    "\n",
    "This is an example of a classification model using supervised machine learning. \n",
    "\n",
    "Features: \n",
    "* buying: buying price (categorical)\n",
    "* maint: price of maintenance (categorical)\n",
    "* doors: The number of doors (categorical)\n",
    "* persons: Capacity in terms of persons to carry (categorical)\n",
    "* lug_boot: The size of the car boot (categorical)\n",
    "* safety: Estimated safety of the car (categorical)\n",
    "\n",
    "Target: \n",
    "* class: The evaluation level = 'unacceptable', 'acceptable', 'good', 'very good' "
   ]
  },
  {
   "cell_type": "code",
   "execution_count": 32,
   "metadata": {},
   "outputs": [],
   "source": [
    "from sklearn import datasets\n",
    "from sklearn.model_selection import train_test_split\n",
    "from sklearn import neighbors, metrics \n",
    "from sklearn.preprocessing import LabelEncoder\n",
    "import numpy as np \n",
    "import pandas as pd\n",
    "\n",
    "# Reading in the data and adding column labels \n",
    "cars = pd.read_csv('/Users/imogensole/Desktop/Git/Scikit_Learn/car+evaluation/car.data')\n",
    "cars = cars.set_axis(['buying', 'maint', 'doors', 'persons', 'lug_boot', 'safety', 'class'], axis=1)"
   ]
  },
  {
   "cell_type": "markdown",
   "metadata": {},
   "source": [
    "### Train Test Split"
   ]
  },
  {
   "cell_type": "code",
   "execution_count": 30,
   "metadata": {},
   "outputs": [
    {
     "name": "stdout",
     "output_type": "stream",
     "text": [
      "(1381, 6)\n",
      "(346, 6)\n",
      "(1381,)\n",
      "(346,)\n"
     ]
    }
   ],
   "source": [
    "# Split the data into features and labels \n",
    "\n",
    "X = np.array(cars.drop('class', axis='columns'))\n",
    "y = np.array(cars['class'])\n",
    "\n",
    "# splits the data into training and test sets \n",
    "# test data = 20% of data set \n",
    "X_train, X_test, y_train, y_test = train_test_split(X, y, test_size=0.2)\n",
    "\n",
    "print(X_train.shape)\n",
    "print(X_test.shape)\n",
    "print(y_train.shape)\n",
    "print(y_test.shape)"
   ]
  },
  {
   "cell_type": "markdown",
   "metadata": {},
   "source": [
    "**What is KNN?**\n",
    "\n",
    "* KNN = 'K Nearest Neighbours'\n",
    "* Type of classification/regression algorithm \n",
    "* Divides the data set into regions for different categories of classification based\n",
    "* Axis represent the features of the data set \n",
    "\n",
    "1. Test point plotted based on its features \n",
    "2. Identify the K nearest neighbours to the test point \n",
    "3. Test point classified in the same category as the majority of the nearest neighbours \n",
    "\n",
    "* Larger k is more appropriate for larger datasets \n",
    "* Advised to use an odd number for k \n",
    "* weights parameter = 'uniform' or 'distance'\n",
    "    * 'uniform' = all datapoints given equal importance \n",
    "    * 'distance' = datapoints weighted higher if they are nearer to the test point "
   ]
  },
  {
   "cell_type": "markdown",
   "metadata": {},
   "source": []
  }
 ],
 "metadata": {
  "kernelspec": {
   "display_name": "Python 3",
   "language": "python",
   "name": "python3"
  },
  "language_info": {
   "codemirror_mode": {
    "name": "ipython",
    "version": 3
   },
   "file_extension": ".py",
   "mimetype": "text/x-python",
   "name": "python",
   "nbconvert_exporter": "python",
   "pygments_lexer": "ipython3",
   "version": "3.11.4"
  },
  "orig_nbformat": 4
 },
 "nbformat": 4,
 "nbformat_minor": 2
}
